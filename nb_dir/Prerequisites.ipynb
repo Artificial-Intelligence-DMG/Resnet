{
 "cells": [
  {
   "cell_type": "markdown",
   "id": "e3c1d966-32c2-4329-92a6-deef1bf1486c",
   "metadata": {},
   "source": [
    "# Prerequisites :\n",
    "\n",
    "A basic understanding of how neural networks work and why their deep counterparts were introduced.\n",
    "\n",
    "## Neural Network: basic\n",
    "\n",
    "TODO"
   ]
  },
  {
   "cell_type": "code",
   "execution_count": null,
   "id": "ea3aeb80-2708-47ca-9970-679b2cbd6adb",
   "metadata": {},
   "outputs": [],
   "source": []
  }
 ],
 "metadata": {
  "kernelspec": {
   "display_name": "Python 3 (ipykernel)",
   "language": "python",
   "name": "python3"
  },
  "language_info": {
   "codemirror_mode": {
    "name": "ipython",
    "version": 3
   },
   "file_extension": ".py",
   "mimetype": "text/x-python",
   "name": "python",
   "nbconvert_exporter": "python",
   "pygments_lexer": "ipython3",
   "version": "3.12.3"
  }
 },
 "nbformat": 4,
 "nbformat_minor": 5
}
